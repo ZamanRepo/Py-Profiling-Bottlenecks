{
 "cells": [
  {
   "cell_type": "markdown",
   "metadata": {
    "collapsed": true
   },
   "source": [
    "# Profiling Python code\n",
    "\n",
    "### Example: Find duplicate movie titles\n",
    "\n",
    "- Read 5000 movie titles\n",
    "- Return a list of movie titles that occur twice\n",
    "- Search is case insensitive"
   ]
  },
  {
   "cell_type": "code",
   "execution_count": 1,
   "metadata": {},
   "outputs": [],
   "source": [
    "def read_movies():\n",
    "    \"\"\" Read movies name from movies_name.txt file\"\"\"\n",
    "    \n",
    "    path = \"movies_name.txt\"\n",
    "    with open(path) as fd:\n",
    "        return fd.read().splitlines()"
   ]
  },
  {
   "cell_type": "code",
   "execution_count": 4,
   "metadata": {},
   "outputs": [],
   "source": [
    "def is_duplicate(name , movie_list):\n",
    "    \n",
    "    for movie_name in movie_list:\n",
    "        if movie_name.lower() == name.lower():\n",
    "            return True\n",
    "        \n",
    "    return False\n",
    "\n",
    "def find_duplicate_movies():\n",
    "    \n",
    "    movies_data = read_movies()\n",
    "    duplicates = []\n",
    "    while movies_data:\n",
    "        movie = movies_data.pop()\n",
    "        if is_duplicate(movie , movies_data):\n",
    "            duplicates.append(movie)\n",
    "    \n",
    "    return duplicates"
   ]
  },
  {
   "cell_type": "code",
   "execution_count": 5,
   "metadata": {},
   "outputs": [
    {
     "name": "stdout",
     "output_type": "stream",
     "text": [
      "CPU times: user 2.06 s, sys: 5.24 ms, total: 2.06 s\n",
      "Wall time: 2.07 s\n"
     ]
    },
    {
     "data": {
      "text/plain": [
       "['Sabotage',\n",
       " 'The Last House on the Left',\n",
       " 'Night of the Living Dead',\n",
       " \"A Dog's Breakfast\",\n",
       " 'Cat People',\n",
       " 'The Texas Chain Saw Massacre',\n",
       " 'The Calling',\n",
       " 'Side Effects',\n",
       " '20,000 Leagues Under the Sea',\n",
       " 'The Love Letter',\n",
       " 'Across the Universe',\n",
       " 'Halloween',\n",
       " 'Oz the Great and Powerful',\n",
       " 'Crossroads',\n",
       " 'Home',\n",
       " 'House of Wax',\n",
       " 'King Kong',\n",
       " 'The Unborn',\n",
       " 'Snitch',\n",
       " 'Trance',\n",
       " 'The Lovely Bones',\n",
       " 'History of the World: Part I',\n",
       " 'Goosebumps',\n",
       " 'The Full Monty',\n",
       " 'Juno',\n",
       " 'The Fog',\n",
       " 'Lucky Number Slevin',\n",
       " 'The Day the Earth Stood Still',\n",
       " 'Mercury Rising',\n",
       " 'Jack Reacher',\n",
       " 'A Woman, a Gun and a Noodle Shop',\n",
       " 'Dawn of the Dead',\n",
       " 'A Nightmare on Elm Street',\n",
       " 'Carrie',\n",
       " 'Stealing Harvard',\n",
       " 'Hamlet',\n",
       " 'Lolita',\n",
       " 'The French Connection',\n",
       " 'Dodgeball: A True Underdog Story',\n",
       " 'Halloween II',\n",
       " \"The Astronaut's Wife\",\n",
       " 'The Omen',\n",
       " 'Cinderella',\n",
       " 'Alice in Wonderland',\n",
       " 'The Gambler',\n",
       " 'The Watch',\n",
       " 'Day of the Dead',\n",
       " 'Unknown',\n",
       " 'Ben-Hur',\n",
       " 'My Soul to Take',\n",
       " 'Planet of the Apes',\n",
       " 'Saving Grace',\n",
       " 'The Return of the Living Dead',\n",
       " 'Exodus: Gods and Kings',\n",
       " 'Pan',\n",
       " 'Out of the Blue',\n",
       " 'O',\n",
       " 'The Gift',\n",
       " 'Murder by Numbers',\n",
       " 'Around the World in 80 Days',\n",
       " 'Skyfall',\n",
       " 'The Claim',\n",
       " 'The Great Gatsby',\n",
       " 'Spider-Man 3',\n",
       " 'Crash',\n",
       " 'Syriana',\n",
       " 'Creepshow',\n",
       " 'The Karate Kid',\n",
       " 'Footloose',\n",
       " 'Heist',\n",
       " 'Dekalog',\n",
       " 'The Tourist',\n",
       " 'The Dead Zone',\n",
       " 'Snatch',\n",
       " 'Precious',\n",
       " 'Poltergeist',\n",
       " 'Home',\n",
       " 'The Host',\n",
       " 'The Alamo',\n",
       " 'Casino Royale',\n",
       " 'Brothers',\n",
       " 'RoboCop',\n",
       " 'Teenage Mutant Ninja Turtles',\n",
       " 'Big Fat Liar',\n",
       " 'Dangerous Liaisons',\n",
       " 'First Blood',\n",
       " 'The Possession',\n",
       " 'Clash of the Titans',\n",
       " 'Aloha',\n",
       " 'Halloween',\n",
       " 'Ben-Hur',\n",
       " 'Left Behind',\n",
       " 'Bad Moms',\n",
       " 'The Illusionist',\n",
       " 'TRON: Legacy',\n",
       " 'Hero',\n",
       " 'Forsaken',\n",
       " 'Glory',\n",
       " 'Death at a Funeral',\n",
       " 'Twilight',\n",
       " 'Conan the Barbarian',\n",
       " 'Wicker Park',\n",
       " 'Disturbia',\n",
       " 'The Island',\n",
       " 'Victor Frankenstein',\n",
       " 'Chasing Liberty',\n",
       " 'Eddie the Eagle',\n",
       " 'King Kong',\n",
       " 'Point Break',\n",
       " 'Snakes on a Plane',\n",
       " 'The Jungle Book',\n",
       " 'Ghostbusters',\n",
       " 'The Lovers',\n",
       " 'From Hell',\n",
       " 'The Fast and the Furious',\n",
       " 'Victor Frankenstein',\n",
       " 'Unbroken',\n",
       " 'Dredd',\n",
       " 'The Avengers',\n",
       " 'Total Recall',\n",
       " 'Hercules',\n",
       " 'The Fast and the Furious',\n",
       " 'Fantastic Four',\n",
       " 'Pan',\n",
       " 'Godzilla Resurgence',\n",
       " 'The Twilight Saga: Breaking Dawn - Part 2',\n",
       " 'The Legend of Tarzan']"
      ]
     },
     "execution_count": 5,
     "metadata": {},
     "output_type": "execute_result"
    }
   ],
   "source": [
    "%time find_duplicate_movies()"
   ]
  },
  {
   "cell_type": "markdown",
   "metadata": {},
   "source": [
    "## Using cProfile to improve the code\n",
    "\n",
    "- Profiles the function using cProfile, and prints out a report\n",
    "- Adapted from the Python 3.6 docs:\n",
    "- https://docs.python.org/3/library/profile.html#profile.Profile"
   ]
  },
  {
   "cell_type": "code",
   "execution_count": 6,
   "metadata": {},
   "outputs": [],
   "source": [
    "import cProfile, pstats, io\n",
    "\n",
    "def profile():\n",
    "    \"\"\"uses cProfile to profile a function\"\"\"\n",
    "    pr = cProfile.Profile()\n",
    "    pr.enable()\n",
    "    \n",
    "    # Function to call\n",
    "    find_duplicate_movies()\n",
    "    \n",
    "    pr.disable()\n",
    "    s = io.StringIO()\n",
    "    sortby = 'cumulative'\n",
    "    ps = pstats.Stats(pr, stream=s).strip_dirs().sort_stats(sortby)\n",
    "    ps.print_stats()\n",
    "    print(s.getvalue())\n",
    "    "
   ]
  },
  {
   "cell_type": "code",
   "execution_count": 7,
   "metadata": {},
   "outputs": [
    {
     "name": "stdout",
     "output_type": "stream",
     "text": [
      "         24980393 function calls in 4.710 seconds\n",
      "\n",
      "   Ordered by: cumulative time\n",
      "\n",
      "   ncalls  tottime  percall  cumtime  percall filename:lineno(function)\n",
      "        1    0.003    0.003    4.710    4.710 <ipython-input-4-c10cde2d10e0>:9(find_duplicate_movies)\n",
      "     5043    2.707    0.001    4.704    0.001 <ipython-input-4-c10cde2d10e0>:1(is_duplicate)\n",
      " 24970168    1.998    0.000    1.998    0.000 {method 'lower' of 'str' objects}\n",
      "        1    0.000    0.000    0.002    0.002 <ipython-input-1-c7689e016564>:1(read_movies)\n",
      "     5043    0.001    0.000    0.001    0.000 {method 'pop' of 'list' objects}\n",
      "        1    0.001    0.001    0.001    0.001 {method 'splitlines' of 'str' objects}\n",
      "        1    0.001    0.001    0.001    0.001 {built-in method io.open}\n",
      "        1    0.000    0.000    0.000    0.000 {method 'read' of '_io.TextIOWrapper' objects}\n",
      "        1    0.000    0.000    0.000    0.000 codecs.py:318(decode)\n",
      "        1    0.000    0.000    0.000    0.000 {built-in method _codecs.utf_8_decode}\n",
      "      127    0.000    0.000    0.000    0.000 {method 'append' of 'list' objects}\n",
      "        1    0.000    0.000    0.000    0.000 _bootlocale.py:23(getpreferredencoding)\n",
      "        1    0.000    0.000    0.000    0.000 codecs.py:308(__init__)\n",
      "        1    0.000    0.000    0.000    0.000 {built-in method _locale.nl_langinfo}\n",
      "        1    0.000    0.000    0.000    0.000 codecs.py:259(__init__)\n",
      "        1    0.000    0.000    0.000    0.000 {method 'disable' of '_lsprof.Profiler' objects}\n",
      "\n",
      "\n",
      "\n"
     ]
    }
   ],
   "source": [
    "profile()"
   ]
  },
  {
   "cell_type": "code",
   "execution_count": 8,
   "metadata": {},
   "outputs": [],
   "source": [
    "def is_duplicate(name , movie_list):\n",
    "    \n",
    "    for movie_name in movie_list:\n",
    "        if movie_name == name:\n",
    "            return True\n",
    "        \n",
    "    return False\n",
    "\n",
    "def find_duplicate_movies():\n",
    "    \n",
    "    movies_data = read_movies()\n",
    "    movies_data = [movie.lower() for movie in movies_data]\n",
    "    duplicates = []\n",
    "    while movies_data:\n",
    "        movie = movies_data.pop()\n",
    "        if is_duplicate(movie , movies_data):\n",
    "            duplicates.append(movie)\n",
    "    \n",
    "    return duplicates"
   ]
  },
  {
   "cell_type": "code",
   "execution_count": 9,
   "metadata": {},
   "outputs": [
    {
     "name": "stdout",
     "output_type": "stream",
     "text": [
      "         15269 function calls in 0.302 seconds\n",
      "\n",
      "   Ordered by: cumulative time\n",
      "\n",
      "   ncalls  tottime  percall  cumtime  percall filename:lineno(function)\n",
      "        1    0.002    0.002    0.302    0.302 <ipython-input-8-c88e92635196>:9(find_duplicate_movies)\n",
      "     5043    0.295    0.000    0.295    0.000 <ipython-input-8-c88e92635196>:1(is_duplicate)\n",
      "        1    0.001    0.001    0.002    0.002 <ipython-input-8-c88e92635196>:12(<listcomp>)\n",
      "        1    0.000    0.000    0.002    0.002 <ipython-input-1-c7689e016564>:1(read_movies)\n",
      "     5043    0.001    0.000    0.001    0.000 {method 'lower' of 'str' objects}\n",
      "        1    0.001    0.001    0.001    0.001 {method 'splitlines' of 'str' objects}\n",
      "     5043    0.001    0.000    0.001    0.000 {method 'pop' of 'list' objects}\n",
      "        1    0.000    0.000    0.000    0.000 {built-in method io.open}\n",
      "        1    0.000    0.000    0.000    0.000 {method 'read' of '_io.TextIOWrapper' objects}\n",
      "        1    0.000    0.000    0.000    0.000 codecs.py:318(decode)\n",
      "        1    0.000    0.000    0.000    0.000 {built-in method _codecs.utf_8_decode}\n",
      "      127    0.000    0.000    0.000    0.000 {method 'append' of 'list' objects}\n",
      "        1    0.000    0.000    0.000    0.000 _bootlocale.py:23(getpreferredencoding)\n",
      "        1    0.000    0.000    0.000    0.000 {built-in method _locale.nl_langinfo}\n",
      "        1    0.000    0.000    0.000    0.000 codecs.py:308(__init__)\n",
      "        1    0.000    0.000    0.000    0.000 codecs.py:259(__init__)\n",
      "        1    0.000    0.000    0.000    0.000 {method 'disable' of '_lsprof.Profiler' objects}\n",
      "\n",
      "\n",
      "\n"
     ]
    }
   ],
   "source": [
    "profile()"
   ]
  },
  {
   "cell_type": "code",
   "execution_count": 10,
   "metadata": {},
   "outputs": [],
   "source": [
    "def find_duplicate_movies():\n",
    "    \n",
    "    movies_data = read_movies()\n",
    "    movies_data = [movie.lower() for movie in movies_data]\n",
    "    duplicates = []\n",
    "    while movies_data:\n",
    "        movie = movies_data.pop()\n",
    "        if movie in movies_data:\n",
    "            duplicates.append(movie)\n",
    "    \n",
    "    return duplicates"
   ]
  },
  {
   "cell_type": "code",
   "execution_count": 11,
   "metadata": {},
   "outputs": [
    {
     "name": "stdout",
     "output_type": "stream",
     "text": [
      "         10226 function calls in 0.150 seconds\n",
      "\n",
      "   Ordered by: cumulative time\n",
      "\n",
      "   ncalls  tottime  percall  cumtime  percall filename:lineno(function)\n",
      "        1    0.146    0.146    0.150    0.150 <ipython-input-10-dc6c61275643>:1(find_duplicate_movies)\n",
      "        1    0.001    0.001    0.002    0.002 <ipython-input-10-dc6c61275643>:4(<listcomp>)\n",
      "        1    0.000    0.000    0.002    0.002 <ipython-input-1-c7689e016564>:1(read_movies)\n",
      "     5043    0.001    0.000    0.001    0.000 {method 'lower' of 'str' objects}\n",
      "        1    0.001    0.001    0.001    0.001 {method 'splitlines' of 'str' objects}\n",
      "     5043    0.001    0.000    0.001    0.000 {method 'pop' of 'list' objects}\n",
      "        1    0.000    0.000    0.000    0.000 {built-in method io.open}\n",
      "        1    0.000    0.000    0.000    0.000 {method 'read' of '_io.TextIOWrapper' objects}\n",
      "        1    0.000    0.000    0.000    0.000 codecs.py:318(decode)\n",
      "        1    0.000    0.000    0.000    0.000 {built-in method _codecs.utf_8_decode}\n",
      "      127    0.000    0.000    0.000    0.000 {method 'append' of 'list' objects}\n",
      "        1    0.000    0.000    0.000    0.000 _bootlocale.py:23(getpreferredencoding)\n",
      "        1    0.000    0.000    0.000    0.000 codecs.py:308(__init__)\n",
      "        1    0.000    0.000    0.000    0.000 {built-in method _locale.nl_langinfo}\n",
      "        1    0.000    0.000    0.000    0.000 codecs.py:259(__init__)\n",
      "        1    0.000    0.000    0.000    0.000 {method 'disable' of '_lsprof.Profiler' objects}\n",
      "\n",
      "\n",
      "\n"
     ]
    }
   ],
   "source": [
    "profile()"
   ]
  },
  {
   "cell_type": "code",
   "execution_count": null,
   "metadata": {},
   "outputs": [],
   "source": []
  }
 ],
 "metadata": {
  "kernelspec": {
   "display_name": "Python 3",
   "language": "python",
   "name": "python3"
  },
  "language_info": {
   "codemirror_mode": {
    "name": "ipython",
    "version": 3
   },
   "file_extension": ".py",
   "mimetype": "text/x-python",
   "name": "python",
   "nbconvert_exporter": "python",
   "pygments_lexer": "ipython3",
   "version": "3.6.6"
  }
 },
 "nbformat": 4,
 "nbformat_minor": 1
}
